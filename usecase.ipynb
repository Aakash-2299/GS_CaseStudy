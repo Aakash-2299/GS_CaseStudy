{
 "cells": [
  {
   "cell_type": "markdown",
   "id": "e6fae006",
   "metadata": {},
   "source": [
    "# Code"
   ]
  },
  {
   "cell_type": "code",
   "execution_count": 792,
   "id": "04195144",
   "metadata": {},
   "outputs": [],
   "source": [
    "class books:\n",
    "    def __init__(self,l):     #receives list of dictionaries with details Name, ISBN, title, Author , year of publication, publisher\n",
    "        self.l=l\n",
    "    def addbooks(self,t):    #adds new book data to the list\n",
    "        a=0\n",
    "        for i in range(len(self.l)):\n",
    "            if self.l[i][\"isbn\"]==t.get(\"isbn\"):\n",
    "                a+=1\n",
    "                print(\"Book with isbn number\", t.get(\"isbn\"), \"already exists\")\n",
    "                break\n",
    "        if a==0:\n",
    "            self.l.append(t)\n",
    "            print(\"Book added successfully\")\n",
    "\n",
    "\n",
    "    def deleteBook(self,isbn_num):   #Deletes book from the data\n",
    "        c=0\n",
    "        for i in range(len(self.l)):\n",
    "            if self.l[i][\"isbn\"]==isbn_num:\n",
    "                del self.l[i]\n",
    "                print(f\"Book with isbn number {isbn_num} deleted Successfully\")\n",
    "                c+=1\n",
    "                break\n",
    "        if c==0:\n",
    "            print(\"Book does not exist\")\n",
    "\n",
    "\n",
    "    def updateBook(self,isbn_num,new_book_name):     #updates the title of the book\n",
    "        u=0\n",
    "        for i in range(len(self.l)):\n",
    "            if self.l[i][\"isbn\"]==isbn_num:\n",
    "                self.l[i][\"title\"]=new_book_name\n",
    "                print(f\"Book with isbn number {isbn_num} updated Successfully\")\n",
    "                u+=1\n",
    "                break\n",
    "        if u==0:\n",
    "            print(\"Book does not exist\")\n",
    "\n",
    "\n",
    "    def checkTitle(self,title):      #checks the availability of book with title\n",
    "        t=0\n",
    "        for i in self.l:\n",
    "            if title==i.get(\"title\"):\n",
    "                print(\"Book is available\")\n",
    "                t+=1\n",
    "                break\n",
    "        if(t==0):\n",
    "            print(\"Book is not available\")\n",
    "\n",
    "\n",
    "    def checkIsbn(self,isbn_num):     #checks the availability of book with isbn\n",
    "        n=0\n",
    "        for i in self.l:\n",
    "            if isbn_num==i.get(\"isbn\"):\n",
    "                print(\"Book is available\")\n",
    "                n+=1\n",
    "                break\n",
    "        if(n==0):\n",
    "            print(\"Book is not available\")\n",
    "       \n",
    "\n",
    "    def User(self,lu):   # initialize users details : list of dictionaries\n",
    "        self.lu=lu\n",
    "        \n",
    "    def addUser(self,du):    # add users details\n",
    "        au=0\n",
    "        for i in range(len(self.lu)):\n",
    "            if self.lu[i][\"Sno\"]==du.get(\"Sno\"):\n",
    "                au+=1\n",
    "                print(\"user with Serial number\", du.get(\"Sno\"), \"already exists\")\n",
    "                break\n",
    "        if au==0:\n",
    "            self.lu.append(du)\n",
    "            print(\"User added successfully\")\n",
    "\n",
    "            \n",
    "    def changeUser(self,sno,add,ac):  #changes/updates user details\n",
    "        cu=0\n",
    "        for i in range(len(self.lu)):\n",
    "            if self.lu[i][\"Sno\"]==sno:\n",
    "                self.lu[i][\"Address\"]=add\n",
    "                self.lu[i][\"Area code\"]=ac\n",
    "                cu+=1\n",
    "                break\n",
    "        if cu==0:\n",
    "            print(\"Invalid user\")\n",
    "\n",
    "            \n",
    "    def issue(self,isbn_num,user_sno):   #issues the book to the valid user only if no one is holding that book also updates the data\n",
    "        isu=0\n",
    "        flag=0\n",
    "        for k in self.lu:\n",
    "            if k.get(\"Sno\")==user_sno:\n",
    "                flag+=1\n",
    "                break\n",
    "        if flag!=0:\n",
    "            for i in self.l:\n",
    "                if isbn_num==i.get(\"isbn\"):\n",
    "                    if i.get(\"Reserved\")==\"Yes\":\n",
    "                        print(f\"Book {isbn_num} is reserved for now please wait for some time\")\n",
    "                    elif i.get(\"Reserved\")==\"No\":\n",
    "                        print(f\"Book {isbn_num} issued to the user {user_sno}\")\n",
    "                        i[\"Reserved\"]=\"Yes\"\n",
    "                        for j in self.lu:\n",
    "                            if user_sno==j.get(\"Sno\"):\n",
    "                                j[\"books holding\"]=[(isbn_num,\"todays date\")]\n",
    "                                break\n",
    "                    isu+=1\n",
    "                    break\n",
    "            if isu==0:\n",
    "                print(\"Book is not available, please provide valid isbn\")\n",
    "        else:\n",
    "            print(\"User not registered\")\n",
    "\n",
    "\n",
    "    def return_book(self,isbn_num,user_sno):    #returns book and also updates the data, price calculation  need to be added\n",
    "        ret=0\n",
    "        flag=0\n",
    "        for k in self.lu:\n",
    "            if k.get(\"Sno\")==user_sno:\n",
    "                flag+=1\n",
    "                break\n",
    "        if flag!=0:\n",
    "            for i in self.l:\n",
    "                if isbn_num==i.get(\"isbn\"):\n",
    "                    i[\"Reserved\"]=\"No\"\n",
    "                    print(f\"user {user_sno} returned book {isbn_num} successfully\")\n",
    "                    for j in self.lu:\n",
    "                            if user_sno==j.get(\"Sno\"):\n",
    "                                j[\"books holding\"].remove((isbn_num,\"todays date\"))\n",
    "                                break\n",
    "                    ret+=1\n",
    "                    break\n",
    "            if ret==0:\n",
    "                print(\"Book is not available, please provide valid isbn\")\n",
    "        else:\n",
    "            print(\"invalid user\")\n",
    "\n",
    "\n",
    "    def ratings(self,lr):\n",
    "        self.lr=lr\n",
    "        \n",
    "        \n",
    "    def add_ratings(self,sno,isbn,rating):   # adds ratings to the book\n",
    "        \n",
    "#         total_ratings=[]\n",
    "#         for i in total_ratings:\n",
    "#             if isbn not in total_ratings:\n",
    "#             d={}\n",
    "        \n",
    "#         for i in self.lr:\n",
    "#             if i[\"isbn\"]==isbn:\n",
    "#                 s=i[\"Rating\"]+rating\n",
    "#                 print(s)\n",
    "#                 break\n",
    "    \n",
    "        td={\"Sno\":sno,\n",
    "            \"isbn\":isbn,\n",
    "            \"Rating\":rating,\n",
    "#             \"sum\":s\n",
    "            }\n",
    "        self.lr.append(td)\n",
    "        \n",
    "    def display(self):    #display ISBN, area code and rating of books\n",
    "        for i in self.lr:\n",
    "            for j in self.lu:\n",
    "                if i[\"Sno\"]==j[\"Sno\"]:\n",
    "                    print(\"isbn: \",i[\"isbn\"],\"Rating :\",i[\"Rating\"],\"Area code :\",j[\"Area code\"])\n",
    "\n",
    "    def Avg_rating(self):\n",
    "        pass\n",
    "    \n",
    "    def total(self,year):   # gives total number of books published in a single year\n",
    "        ts=0\n",
    "        for i in self.l:\n",
    "            if i[\"year_of_publication\"]==year:\n",
    "                ts+=1\n",
    "        print(ts)\n",
    "        \n",
    "    def top_five(self):\n",
    "        pass\n",
    "            \n",
    "            \n",
    "#------------------------------------------------------\n",
    "\n",
    "\n",
    "\n",
    "#initial books data\n",
    "\n",
    "b=books([{\"isbn\": 9001,\n",
    "        \"title\": \"Marvel\",\n",
    "        \"author\": \"stanlee\",\n",
    "        \"year_of_publication\": 2008,\n",
    "        \"publisher\": \"kevin feige\",\n",
    "        \"image_url_s\": \"image\",\n",
    "        \"image_url_m\": \"image2\",\n",
    "        \"image_url_l\": \"image3\",\n",
    "         \"Reserved\":\"No\"},\n",
    "         \n",
    "        {\"isbn\": 9002,\n",
    "        \"title\": \"DC\",\n",
    "        \"author\": \"Malcom\",\n",
    "        \"year_of_publication\": 2013,\n",
    "        \"publisher\": \"Warner bros\",\n",
    "        \"image_url_s\": \"image\",\n",
    "        \"image_url_m\": \"image2\",\n",
    "        \"image_url_l\": \"image3\",\n",
    "        \"Reserved\":\"No\"}\n",
    "         \n",
    "        ])\n",
    "\n",
    "\n",
    "# initial user data\n",
    "\n",
    "b.User([{\"Sno\":1001,\n",
    "           \"Address\":\"Hyderabad\",\n",
    "           \"Area code\":500010,\n",
    "           \"books holding\":[]},\n",
    "           \n",
    "           {\"Sno\":1002,\n",
    "           \"Address\":\"Hyderabad\",\n",
    "           \"Area code\":500015,\n",
    "           \"books holding\":[]},\n",
    "           \n",
    "           {\"Sno\":1003,\n",
    "           \"Address\":\"Chennai\",\n",
    "           \"Area code\":600010,\n",
    "           \"books holding\":[]}\n",
    "])\n",
    "\n",
    "\n",
    "#initial ratings\n",
    "\n",
    "b.ratings([{\"Sno\":1001,\n",
    "        \"isbn\":9001,\n",
    "        \"Rating\":5,\n",
    "#         \"sum\":0\n",
    "        },\n",
    "      {\"Sno\":1002,\n",
    "        \"isbn\":9002,\n",
    "        \"Rating\":5,\n",
    "#        \"sum\":0\n",
    "        }      \n",
    "])\n"
   ]
  },
  {
   "cell_type": "markdown",
   "id": "30941d48",
   "metadata": {},
   "source": [
    "# Books"
   ]
  },
  {
   "cell_type": "code",
   "execution_count": 775,
   "id": "fc5677e0",
   "metadata": {},
   "outputs": [
    {
     "data": {
      "text/plain": [
       "[{'isbn': 9001,\n",
       "  'title': 'Marvel',\n",
       "  'author': 'stanlee',\n",
       "  'year_of_publication': 2008,\n",
       "  'publisher': 'kevin feige',\n",
       "  'image_url_s': 'image',\n",
       "  'image_url_m': 'image2',\n",
       "  'image_url_l': 'image3',\n",
       "  'Reserved': 'No'},\n",
       " {'isbn': 9002,\n",
       "  'title': 'DC',\n",
       "  'author': 'Malcom',\n",
       "  'year_of_publication': 2013,\n",
       "  'publisher': 'Warner bros',\n",
       "  'image_url_s': 'image',\n",
       "  'image_url_m': 'image2',\n",
       "  'image_url_l': 'image3',\n",
       "  'Reserved': 'No'}]"
      ]
     },
     "execution_count": 775,
     "metadata": {},
     "output_type": "execute_result"
    }
   ],
   "source": [
    "b.l"
   ]
  },
  {
   "cell_type": "code",
   "execution_count": 776,
   "id": "e00b6ca2",
   "metadata": {},
   "outputs": [
    {
     "name": "stdout",
     "output_type": "stream",
     "text": [
      "Book added successfully\n"
     ]
    }
   ],
   "source": [
    "b.addbooks(\n",
    "    {\"isbn\": 1434,\n",
    "        \"title\": \"starwars\",\n",
    "        \"author\": \"George Lucas\",\n",
    "        \"year_of_publication\": 1997,\n",
    "        \"publisher\": \"Lucasfilm\",\n",
    "        \"image_url_s\": \"image\",\n",
    "        \"image_url_m\": \"image2\",\n",
    "        \"image_url_l\": \"image3\",\n",
    "        \"Reserved\":\"No\"},\n",
    "        )   #('abc',9101234567894,'xyz',2012)"
   ]
  },
  {
   "cell_type": "code",
   "execution_count": 777,
   "id": "ac3bc5f9",
   "metadata": {},
   "outputs": [
    {
     "name": "stdout",
     "output_type": "stream",
     "text": [
      "Book with isbn number 9001 deleted Successfully\n"
     ]
    }
   ],
   "source": [
    "b.deleteBook(9001)"
   ]
  },
  {
   "cell_type": "code",
   "execution_count": 778,
   "id": "22071a59",
   "metadata": {},
   "outputs": [
    {
     "name": "stdout",
     "output_type": "stream",
     "text": [
      "Book does not exist\n"
     ]
    }
   ],
   "source": [
    "b.updateBook(9001,'Mandalorian')"
   ]
  },
  {
   "cell_type": "code",
   "execution_count": 779,
   "id": "5c692afe",
   "metadata": {},
   "outputs": [
    {
     "name": "stdout",
     "output_type": "stream",
     "text": [
      "Book is not available\n"
     ]
    }
   ],
   "source": [
    "b.checkTitle(\"Mandalorian\")"
   ]
  },
  {
   "cell_type": "code",
   "execution_count": 780,
   "id": "5c1aebac",
   "metadata": {},
   "outputs": [
    {
     "name": "stdout",
     "output_type": "stream",
     "text": [
      "Book is not available\n"
     ]
    }
   ],
   "source": [
    "b.checkTitle(\"Marvel\")"
   ]
  },
  {
   "cell_type": "code",
   "execution_count": 781,
   "id": "a4f716a6",
   "metadata": {},
   "outputs": [
    {
     "name": "stdout",
     "output_type": "stream",
     "text": [
      "Book is available\n"
     ]
    }
   ],
   "source": [
    "b.checkIsbn(9002)"
   ]
  },
  {
   "cell_type": "markdown",
   "id": "abd90b14",
   "metadata": {},
   "source": [
    "# users"
   ]
  },
  {
   "cell_type": "code",
   "execution_count": 782,
   "id": "e5fcfaac",
   "metadata": {},
   "outputs": [
    {
     "name": "stdout",
     "output_type": "stream",
     "text": [
      "User added successfully\n"
     ]
    }
   ],
   "source": [
    "b.addUser({\"Sno\":1004,\n",
    "           \"Address\":\"Delhi\",\n",
    "           \"Area code\":100010,\n",
    "           \"books holding\":[]})"
   ]
  },
  {
   "cell_type": "code",
   "execution_count": 785,
   "id": "02b688d3",
   "metadata": {},
   "outputs": [
    {
     "data": {
      "text/plain": [
       "[{'Sno': 1001,\n",
       "  'Address': 'Hyderabad',\n",
       "  'Area code': 500010,\n",
       "  'books holding': []},\n",
       " {'Sno': 1002,\n",
       "  'Address': 'Hyderabad',\n",
       "  'Area code': 500015,\n",
       "  'books holding': []},\n",
       " {'Sno': 1003, 'Address': 'Chennai', 'Area code': 600010, 'books holding': []},\n",
       " {'Sno': 1004, 'Address': 'Delhi', 'Area code': 100015, 'books holding': []}]"
      ]
     },
     "execution_count": 785,
     "metadata": {},
     "output_type": "execute_result"
    }
   ],
   "source": [
    "b.lu"
   ]
  },
  {
   "cell_type": "code",
   "execution_count": 784,
   "id": "d459d5a9",
   "metadata": {},
   "outputs": [],
   "source": [
    "b.changeUser(1004,\"Delhi\",100015,)"
   ]
  },
  {
   "cell_type": "code",
   "execution_count": 786,
   "id": "faa78632",
   "metadata": {},
   "outputs": [
    {
     "name": "stdout",
     "output_type": "stream",
     "text": [
      "Book is not available, please provide valid isbn\n"
     ]
    }
   ],
   "source": [
    "b.issue(9001,1001)"
   ]
  },
  {
   "cell_type": "code",
   "execution_count": 787,
   "id": "eee304c7",
   "metadata": {},
   "outputs": [
    {
     "name": "stdout",
     "output_type": "stream",
     "text": [
      "Book is not available, please provide valid isbn\n"
     ]
    }
   ],
   "source": [
    "b.return_book(9001,1001)"
   ]
  },
  {
   "cell_type": "markdown",
   "id": "b3185b3b",
   "metadata": {},
   "source": [
    "# Ratings"
   ]
  },
  {
   "cell_type": "code",
   "execution_count": 788,
   "id": "04acaf24",
   "metadata": {},
   "outputs": [
    {
     "data": {
      "text/plain": [
       "[{'Sno': 1001, 'isbn': 9001, 'Rating': 5},\n",
       " {'Sno': 1002, 'isbn': 9002, 'Rating': 5}]"
      ]
     },
     "execution_count": 788,
     "metadata": {},
     "output_type": "execute_result"
    }
   ],
   "source": [
    "b.lr"
   ]
  },
  {
   "cell_type": "code",
   "execution_count": 789,
   "id": "2d911d38",
   "metadata": {},
   "outputs": [],
   "source": [
    "b.add_ratings(1003,9001,5)"
   ]
  },
  {
   "cell_type": "code",
   "execution_count": 790,
   "id": "479f7828",
   "metadata": {},
   "outputs": [
    {
     "name": "stdout",
     "output_type": "stream",
     "text": [
      "isbn:  9001 Rating : 5 Area code : 500010\n",
      "isbn:  9002 Rating : 5 Area code : 500015\n",
      "isbn:  9001 Rating : 5 Area code : 600010\n"
     ]
    }
   ],
   "source": [
    "b.display()"
   ]
  },
  {
   "cell_type": "code",
   "execution_count": 791,
   "id": "52e8d05f",
   "metadata": {},
   "outputs": [
    {
     "name": "stdout",
     "output_type": "stream",
     "text": [
      "0\n"
     ]
    }
   ],
   "source": [
    "b.total(1998)"
   ]
  },
  {
   "cell_type": "code",
   "execution_count": null,
   "id": "8cdaef25",
   "metadata": {},
   "outputs": [],
   "source": []
  },
  {
   "cell_type": "code",
   "execution_count": null,
   "id": "296509ae",
   "metadata": {},
   "outputs": [],
   "source": []
  }
 ],
 "metadata": {
  "kernelspec": {
   "display_name": "Python 3 (ipykernel)",
   "language": "python",
   "name": "python3"
  },
  "language_info": {
   "codemirror_mode": {
    "name": "ipython",
    "version": 3
   },
   "file_extension": ".py",
   "mimetype": "text/x-python",
   "name": "python",
   "nbconvert_exporter": "python",
   "pygments_lexer": "ipython3",
   "version": "3.11.4"
  }
 },
 "nbformat": 4,
 "nbformat_minor": 5
}
